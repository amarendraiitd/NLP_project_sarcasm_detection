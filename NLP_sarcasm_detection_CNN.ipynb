{
 "cells": [
  {
   "cell_type": "code",
   "execution_count": 1,
   "id": "98c6572b",
   "metadata": {
    "execution": {
     "iopub.execute_input": "2024-05-05T07:00:04.899735Z",
     "iopub.status.busy": "2024-05-05T07:00:04.899134Z",
     "iopub.status.idle": "2024-05-05T07:00:11.912938Z",
     "shell.execute_reply": "2024-05-05T07:00:11.911755Z"
    },
    "papermill": {
     "duration": 7.025315,
     "end_time": "2024-05-05T07:00:11.916265",
     "exception": false,
     "start_time": "2024-05-05T07:00:04.890950",
     "status": "completed"
    },
    "tags": []
   },
   "outputs": [],
   "source": [
    "import torch\n",
    "import torch.nn as nn\n",
    "import numpy as np\n",
    "import pandas as pd\n",
    "import time\n",
    "import csv\n",
    "import os\n",
    "from nltk.tokenize import word_tokenize\n",
    "import torch.nn.functional as F\n",
    "import torch.optim as optim\n",
    "from sklearn.model_selection import train_test_split\n",
    "from torch.utils.data import Dataset, DataLoader\n",
    "device = torch.device('cuda') if torch.cuda.is_available() else torch.device('cpu')\n",
    "import matplotlib.pyplot as plt"
   ]
  },
  {
   "cell_type": "code",
   "execution_count": 2,
   "id": "dee991a5",
   "metadata": {
    "execution": {
     "iopub.execute_input": "2024-05-05T07:00:11.929577Z",
     "iopub.status.busy": "2024-05-05T07:00:11.928947Z",
     "iopub.status.idle": "2024-05-05T07:00:12.171094Z",
     "shell.execute_reply": "2024-05-05T07:00:12.169815Z"
    },
    "papermill": {
     "duration": 0.252043,
     "end_time": "2024-05-05T07:00:12.174166",
     "exception": false,
     "start_time": "2024-05-05T07:00:11.922123",
     "status": "completed"
    },
    "tags": []
   },
   "outputs": [
    {
     "data": {
      "text/plain": [
       "(20545, 5137)"
      ]
     },
     "execution_count": 2,
     "metadata": {},
     "output_type": "execute_result"
    }
   ],
   "source": [
    "training_data_df = pd.read_csv('/kaggle/input/sarcasm-glove/Sarcasm_training.csv')\n",
    "training_data_df = training_data_df[['TEXT ', 'IS_SARCASTIC']]\n",
    "training_data_df['IS_SARCASTIC'] = pd.to_numeric(training_data_df['IS_SARCASTIC'], errors='coerce')\n",
    "train_data_df_cleaned = training_data_df[training_data_df['IS_SARCASTIC'].isin([0, 1])]\n",
    "invalid_rows_after_cleanup = train_data_df_cleaned[~train_data_df_cleaned['IS_SARCASTIC'].isin([0, 1])]\n",
    "invalid_rows_count_after_cleanup = len(invalid_rows_after_cleanup)\n",
    "training_data_df = train_data_df_cleaned\n",
    "training_data_df.rename(columns={\"TEXT \": \"TEXT\"}, inplace=True)\n",
    "# training_data_df\n",
    "train_val_split_factor = 0.8\n",
    "\n",
    "num_training_samples = int(len(training_data_df) * train_val_split_factor)\n",
    "\n",
    "shuffled_indices = np.random.RandomState(seed=150).permutation(len(training_data_df))\n",
    "\n",
    "train_indices = shuffled_indices[:num_training_samples]\n",
    "val_indices = shuffled_indices[num_training_samples:]\n",
    "\n",
    "train_data_df = training_data_df.iloc[train_indices].reset_index(drop=True)\n",
    "val_df = training_data_df.iloc[val_indices].reset_index(drop=True)\n",
    "len(train_data_df), len(val_df)"
   ]
  },
  {
   "cell_type": "code",
   "execution_count": 3,
   "id": "81ef05a1",
   "metadata": {
    "execution": {
     "iopub.execute_input": "2024-05-05T07:00:12.187001Z",
     "iopub.status.busy": "2024-05-05T07:00:12.186210Z",
     "iopub.status.idle": "2024-05-05T07:00:19.843311Z",
     "shell.execute_reply": "2024-05-05T07:00:19.842135Z"
    },
    "papermill": {
     "duration": 7.666771,
     "end_time": "2024-05-05T07:00:19.846288",
     "exception": false,
     "start_time": "2024-05-05T07:00:12.179517",
     "status": "completed"
    },
    "tags": []
   },
   "outputs": [],
   "source": [
    "\n",
    "def load_embeddings(file_path):\n",
    "    embeddings_index = {}\n",
    "    with open(file_path, 'r', encoding='utf-8') as f:\n",
    "        for line in f:\n",
    "            values = line.split()\n",
    "            word = values[0]\n",
    "            coefs = np.asarray(values[1:], dtype='float32')\n",
    "            embeddings_index[word] = coefs\n",
    "    return embeddings_index\n",
    "\n",
    "\n",
    "local_embeddings_path = '/kaggle/input/sarcasm-glove/glove.6B.50d.txt'\n",
    "word_vectors = load_embeddings(local_embeddings_path)"
   ]
  },
  {
   "cell_type": "code",
   "execution_count": 4,
   "id": "45687810",
   "metadata": {
    "execution": {
     "iopub.execute_input": "2024-05-05T07:00:19.859308Z",
     "iopub.status.busy": "2024-05-05T07:00:19.858892Z",
     "iopub.status.idle": "2024-05-05T07:00:19.869184Z",
     "shell.execute_reply": "2024-05-05T07:00:19.867905Z"
    },
    "papermill": {
     "duration": 0.019976,
     "end_time": "2024-05-05T07:00:19.871909",
     "exception": false,
     "start_time": "2024-05-05T07:00:19.851933",
     "status": "completed"
    },
    "tags": []
   },
   "outputs": [],
   "source": [
    "class SarcasmDataset(Dataset):\n",
    "    def __init__(self, dataframe, word_vectors, max_length):\n",
    "        self.data = dataframe\n",
    "        self.word_vectors = word_vectors\n",
    "        self.max_length = max_length\n",
    "\n",
    "    def __len__(self):\n",
    "        return len(self.data)\n",
    "\n",
    "    def __getitem__(self, idx):\n",
    "        text = self.data.iloc[idx]['TEXT']\n",
    "        label = self.data.iloc[idx]['IS_SARCASTIC']\n",
    "        vector = self.sentence_to_vector(text)\n",
    "        return vector, label\n",
    "\n",
    "    def sentence_to_vector(self, sentence):\n",
    "        tokens = word_tokenize(sentence.lower())\n",
    "        vector = np.zeros((self.max_length, 50))  # 50 is the embedding size\n",
    "        for i, token in enumerate(tokens):\n",
    "            if i >= self.max_length:\n",
    "                break\n",
    "            if token in self.word_vectors:\n",
    "                vector[i] = self.word_vectors[token]\n",
    "        return vector"
   ]
  },
  {
   "cell_type": "code",
   "execution_count": 5,
   "id": "a9e957a9",
   "metadata": {
    "execution": {
     "iopub.execute_input": "2024-05-05T07:00:19.884490Z",
     "iopub.status.busy": "2024-05-05T07:00:19.884048Z",
     "iopub.status.idle": "2024-05-05T07:00:19.892491Z",
     "shell.execute_reply": "2024-05-05T07:00:19.891300Z"
    },
    "papermill": {
     "duration": 0.017613,
     "end_time": "2024-05-05T07:00:19.894990",
     "exception": false,
     "start_time": "2024-05-05T07:00:19.877377",
     "status": "completed"
    },
    "tags": []
   },
   "outputs": [],
   "source": [
    "max_length = 100\n",
    "\n",
    "train_dataset = SarcasmDataset(train_data_df, word_vectors, max_length)\n",
    "val_dataset = SarcasmDataset(val_df, word_vectors, max_length)\n",
    "\n",
    "train_loader = DataLoader(train_dataset, batch_size=32, shuffle=True, drop_last=True)\n",
    "val_loader = DataLoader(val_dataset, batch_size=32, shuffle=False)"
   ]
  },
  {
   "cell_type": "code",
   "execution_count": 6,
   "id": "9a30662b",
   "metadata": {
    "execution": {
     "iopub.execute_input": "2024-05-05T07:00:19.908310Z",
     "iopub.status.busy": "2024-05-05T07:00:19.907151Z",
     "iopub.status.idle": "2024-05-05T07:00:19.918779Z",
     "shell.execute_reply": "2024-05-05T07:00:19.917904Z"
    },
    "papermill": {
     "duration": 0.020751,
     "end_time": "2024-05-05T07:00:19.921205",
     "exception": false,
     "start_time": "2024-05-05T07:00:19.900454",
     "status": "completed"
    },
    "tags": []
   },
   "outputs": [],
   "source": [
    "class CNNModel(nn.Module):\n",
    "    def __init__(self, embedding_dim, num_classes=1):\n",
    "        super(CNNModel, self).__init__()\n",
    "        self.conv1 = nn.Conv1d(in_channels=embedding_dim, out_channels=32, kernel_size=3, padding=1)\n",
    "        self.conv2 = nn.Conv1d(in_channels=32, out_channels=64, kernel_size=3, padding=1)\n",
    "        self.conv3 = nn.Conv1d(in_channels=64, out_channels=128, kernel_size=3, padding=1)\n",
    "        self.conv4 = nn.Conv1d(in_channels=128, out_channels=256, kernel_size=3, padding=1)\n",
    "        \n",
    "        self.avg_pool = nn.AdaptiveAvgPool1d(1)\n",
    "        self.fc1 = nn.Linear(256, 128)\n",
    "        self.fc2 = nn.Linear(128, num_classes)\n",
    "\n",
    "    def forward(self, x):\n",
    "        x = x.permute(0, 2, 1) \n",
    "        x = F.relu(self.conv1(x))\n",
    "        x = F.relu(self.conv2(x))\n",
    "        x = F.relu(self.conv3(x))\n",
    "        x = F.relu(self.conv4(x))\n",
    "        \n",
    "        x = self.avg_pool(x)\n",
    "        x = torch.flatten(x, 1)\n",
    "        \n",
    "        x = F.relu(self.fc1(x))\n",
    "        x = self.fc2(x)\n",
    "        \n",
    "#         return torch.sigmoid(x)\n",
    "        return x\n"
   ]
  },
  {
   "cell_type": "code",
   "execution_count": 7,
   "id": "637493d9",
   "metadata": {
    "execution": {
     "iopub.execute_input": "2024-05-05T07:00:19.934355Z",
     "iopub.status.busy": "2024-05-05T07:00:19.933312Z",
     "iopub.status.idle": "2024-05-05T07:00:22.908530Z",
     "shell.execute_reply": "2024-05-05T07:00:22.907341Z"
    },
    "papermill": {
     "duration": 2.984686,
     "end_time": "2024-05-05T07:00:22.911170",
     "exception": false,
     "start_time": "2024-05-05T07:00:19.926484",
     "status": "completed"
    },
    "tags": []
   },
   "outputs": [],
   "source": [
    "model = CNNModel(embedding_dim=50)\n",
    "model.to(device)\n",
    "criterion = nn.BCEWithLogitsLoss()\n",
    "optimizer = optim.Adam(model.parameters(), lr=0.001) "
   ]
  },
  {
   "cell_type": "code",
   "execution_count": 8,
   "id": "a2b70d84",
   "metadata": {
    "execution": {
     "iopub.execute_input": "2024-05-05T07:00:22.923721Z",
     "iopub.status.busy": "2024-05-05T07:00:22.923181Z",
     "iopub.status.idle": "2024-05-05T07:00:22.938439Z",
     "shell.execute_reply": "2024-05-05T07:00:22.937255Z"
    },
    "papermill": {
     "duration": 0.024134,
     "end_time": "2024-05-05T07:00:22.940661",
     "exception": false,
     "start_time": "2024-05-05T07:00:22.916527",
     "status": "completed"
    },
    "tags": []
   },
   "outputs": [],
   "source": [
    "def train_model(model,device,train_dataloader):\n",
    "    model.train()\n",
    "    total_predictions = 0\n",
    "    correct_predictions = 0\n",
    "    train_loss = 0\n",
    "    for batch_idx, (inputs,labels) in enumerate(train_dataloader):\n",
    "        inputs = inputs.to(device)\n",
    "        labels = labels.to(device)\n",
    "        optimizer.zero_grad()\n",
    "#         print(inputs.shape)\n",
    "        outputs = model(inputs.float())\n",
    "        loss = criterion(outputs.squeeze(), labels.float())\n",
    "        train_loss += loss.item()\n",
    "        loss.backward()\n",
    "        optimizer.step()\n",
    "        output_probabilities = F.sigmoid(outputs)\n",
    "        preds = (output_probabilities >= 0.5).float()\n",
    "        correct_predictions += torch.sum(preds.squeeze(1)  == labels).item()\n",
    "        total_predictions += labels.size(0)\n",
    "\n",
    "    avg_train_loss = train_loss / len(train_dataloader)  \n",
    "    train_accuracy = 100 * correct_predictions / total_predictions\n",
    "    # print(f'Epoch [{epoch+1}/{num_epochs}], Loss: {loss.item():.4f}, Training Accuracy: {train_accuracy:.2f}%')\n",
    "    return avg_train_loss,train_accuracy\n",
    "\n",
    "\n",
    "def validation_check(model,device,validation_dataloader):\n",
    "    model.eval()\n",
    "    correct_val = 0\n",
    "    total_val = 0\n",
    "    val_loss = 0\n",
    "    with torch.no_grad():\n",
    "        for batch_idx, (inputs,labels) in enumerate(validation_dataloader):\n",
    "            inputs = inputs.to(device)\n",
    "            labels = labels.to(device)\n",
    "            outputs = model(inputs.float())\n",
    "            loss = criterion(outputs.squeeze(), labels.float())\n",
    "            val_loss += loss.item()\n",
    "            output_probabilities = F.sigmoid(outputs)\n",
    "            preds = (output_probabilities >= 0.5).float()\n",
    "            correct_val += torch.sum(preds.squeeze(1)  == labels).item()\n",
    "            total_val += labels.size(0)\n",
    "    avg_val_loss = val_loss / len(validation_dataloader)\n",
    "    val_accuracy = 100 * correct_val / total_val\n",
    "    # print(f'Validation Accuracy: {val_accuracy:.2f}%')\n",
    "    return avg_val_loss,val_accuracy"
   ]
  },
  {
   "cell_type": "code",
   "execution_count": 9,
   "id": "b572ea4f",
   "metadata": {
    "execution": {
     "iopub.execute_input": "2024-05-05T07:00:22.953164Z",
     "iopub.status.busy": "2024-05-05T07:00:22.952751Z",
     "iopub.status.idle": "2024-05-05T07:05:12.106360Z",
     "shell.execute_reply": "2024-05-05T07:05:12.105158Z"
    },
    "papermill": {
     "duration": 289.168364,
     "end_time": "2024-05-05T07:05:12.114497",
     "exception": false,
     "start_time": "2024-05-05T07:00:22.946133",
     "status": "completed"
    },
    "tags": []
   },
   "outputs": [
    {
     "name": "stdout",
     "output_type": "stream",
     "text": [
      "epoch: 1, train loss: 0.5598, val. loss: 0.4951, train acc: 70.8577, val acc: 78.1974, time: 0.60 mins\n",
      "epoch: 2, train loss: 0.4097, val. loss: 0.3752, train acc: 81.9363, val acc: 83.1419, time: 1.20 mins\n",
      "epoch: 3, train loss: 0.3540, val. loss: 0.3615, train acc: 84.7839, val acc: 84.0568, time: 1.80 mins\n",
      "epoch: 4, train loss: 0.3199, val. loss: 0.3490, train acc: 86.6676, val acc: 84.0374, time: 2.40 mins\n",
      "epoch: 5, train loss: 0.2969, val. loss: 0.3545, train acc: 87.7142, val acc: 84.7771, time: 3.01 mins\n",
      "epoch: 6, train loss: 0.2717, val. loss: 0.3414, train acc: 88.7461, val acc: 85.1080, time: 3.61 mins\n",
      "epoch: 7, train loss: 0.2506, val. loss: 0.3624, train acc: 89.9289, val acc: 84.6019, time: 4.22 mins\n",
      "epoch: 8, train loss: 0.2276, val. loss: 0.3948, train acc: 91.0095, val acc: 83.7843, time: 4.82 mins\n"
     ]
    }
   ],
   "source": [
    "model_save_path = 'model.pth' \n",
    "model_state_dict_path = 'model_state_dict.pth'\n",
    "epochs = 8\n",
    "training_losses = []\n",
    "training_accs = []\n",
    "val_losses = []\n",
    "val_accs = []\n",
    "start_time = time.time()\n",
    "for epoch in range(epochs):\n",
    "    loss, accuracy = train_model(model,device,train_loader)\n",
    "    training_losses.append(loss)\n",
    "    training_accs.append(accuracy)\n",
    "    val_loss, val_acc = validation_check(model, device, val_loader)\n",
    "    val_losses.append(val_loss)\n",
    "    val_accs.append(val_acc)\n",
    "    e_time = (time.time() - start_time)/60\n",
    "    print(f\"epoch: {epoch+1}, train loss: {loss:.4f}, val. loss: {val_loss:.4f}, train acc: {accuracy:.4f}, val acc: {val_acc:.4f}, time: {e_time:.2f} mins\")\n",
    "    torch.save(model, model_save_path)\n",
    "    torch.save(model.state_dict(), model_state_dict_path)\n",
    "    epoch_nums = list(range(1, epoch+2))\n",
    "    csv_file_path = \"losses.csv\"\n",
    "    with open(csv_file_path, mode='w', newline='') as file:\n",
    "        writer = csv.writer(file)\n",
    "        writer.writerow([\"Epoch\", \"Train Loss\", \"Validation Loss\", \"Training Accuracy\", \"Validation Accuracy\"])   \n",
    "        for epoch, train_loss, validation_loss, tacc, vacc in zip(epoch_nums, training_losses, val_losses, training_accs, val_accs):\n",
    "            writer.writerow([epoch, train_loss, validation_loss, tacc, vacc])"
   ]
  },
  {
   "cell_type": "code",
   "execution_count": 10,
   "id": "00b75d18",
   "metadata": {
    "execution": {
     "iopub.execute_input": "2024-05-05T07:05:12.128730Z",
     "iopub.status.busy": "2024-05-05T07:05:12.127750Z",
     "iopub.status.idle": "2024-05-05T07:05:12.646495Z",
     "shell.execute_reply": "2024-05-05T07:05:12.645155Z"
    },
    "papermill": {
     "duration": 0.528458,
     "end_time": "2024-05-05T07:05:12.648924",
     "exception": false,
     "start_time": "2024-05-05T07:05:12.120466",
     "status": "completed"
    },
    "tags": []
   },
   "outputs": [
    {
     "data": {
      "image/png": "[encoded data removed]",
      "text/plain": [
       "<Figure size 600x400 with 1 Axes>"
      ]
     },
     "metadata": {},
     "output_type": "display_data"
    }
   ],
   "source": [
    "epoch_nums = list(range(1, epochs+1))\n",
    "plt.figure(figsize=(6, 4))\n",
    "plt.plot(epoch_nums, training_losses, '-o', color='b', label='Train Losses')\n",
    "plt.plot(epoch_nums, val_losses, '-o', color='r', label='Validation Losses')\n",
    "\n",
    "plt.title('Train and Validation Losses vs Epochs')\n",
    "plt.xlabel('Epochs')\n",
    "plt.ylabel('Losses')\n",
    "plt.grid(True)\n",
    "plt.legend()\n",
    "plt.savefig('train_and_validation_losses.png')\n",
    "plt.show()"
   ]
  },
  {
   "cell_type": "code",
   "execution_count": 11,
   "id": "1917983e",
   "metadata": {
    "execution": {
     "iopub.execute_input": "2024-05-05T07:05:12.664969Z",
     "iopub.status.busy": "2024-05-05T07:05:12.664556Z",
     "iopub.status.idle": "2024-05-05T07:05:21.078925Z",
     "shell.execute_reply": "2024-05-05T07:05:21.077460Z"
    },
    "papermill": {
     "duration": 8.425895,
     "end_time": "2024-05-05T07:05:21.081657",
     "exception": false,
     "start_time": "2024-05-05T07:05:12.655762",
     "status": "completed"
    },
    "tags": []
   },
   "outputs": [],
   "source": [
    "test_data_df = pd.read_csv('/kaggle/input/sarcasm-test-new/test_data.csv')\n",
    "test_data_df = test_data_df[['ID','text']]\n",
    "\n",
    "\n",
    "def sentence_to_vector(sentence, word_vectors, max_length):\n",
    "    tokens = word_tokenize(sentence.lower())\n",
    "    vector = np.zeros((max_length, 50))\n",
    "    for i, token in enumerate(tokens):\n",
    "        if i >= max_length:\n",
    "            break\n",
    "        if token in word_vectors:\n",
    "            vector[i] = word_vectors[token]\n",
    "    return vector\n",
    "\n",
    "\n",
    "def predict_sarcasm(sentence, word_vectors, model, device):\n",
    "    model.eval() \n",
    "    with torch.no_grad(): \n",
    "        sentence_vector = sentence_to_vector(sentence, word_vectors, 100)\n",
    "        sentence_vector = torch.tensor(sentence_vector).float().to(device)\n",
    "        sentence_vector = sentence_vector.unsqueeze(0)  \n",
    "        output = model(sentence_vector)\n",
    "        output_probabilities = F.sigmoid(output)\n",
    "        preds = (output_probabilities >= 0.5).float()\n",
    "#         prediction = torch.sigmoid(output)\n",
    "        return preds\n",
    "    \n",
    "    \n",
    "all_preds = []\n",
    "for index, row in test_data_df.iterrows():\n",
    "    ID = row['ID']\n",
    "    sentence = row['text']\n",
    "    pred_tensor = predict_sarcasm(sentence,word_vectors, model, device) \n",
    "    pred = int(pred_tensor.cpu().numpy().flatten()[0])\n",
    "    all_preds.append((ID, pred))\n",
    "\n",
    "results_df = pd.DataFrame(all_preds, columns=['ID', 'IS_SARCASTIC'])\n",
    "results_df.to_csv('predictions.csv', index=False) "
   ]
  },
  {
   "cell_type": "code",
   "execution_count": null,
   "id": "2e893eaf",
   "metadata": {
    "papermill": {
     "duration": 0.007413,
     "end_time": "2024-05-05T07:05:21.096177",
     "exception": false,
     "start_time": "2024-05-05T07:05:21.088764",
     "status": "completed"
    },
    "tags": []
   },
   "outputs": [],
   "source": []
  }
 ],
 "metadata": {
  "kaggle": {
   "accelerator": "none",
   "dataSources": [
    {
     "databundleVersionId": 8306936,
     "sourceId": 75436,
     "sourceType": "competition"
    },
    {
     "datasetId": 4816876,
     "sourceId": 8145736,
     "sourceType": "datasetVersion"
    },
    {
     "datasetId": 4845945,
     "sourceId": 8184252,
     "sourceType": "datasetVersion"
    }
   ],
   "dockerImageVersionId": 30698,
   "isGpuEnabled": false,
   "isInternetEnabled": true,
   "language": "python",
   "sourceType": "notebook"
  },
  "kernelspec": {
   "display_name": "Python 3",
   "language": "python",
   "name": "python3"
  },
  "language_info": {
   "codemirror_mode": {
    "name": "ipython",
    "version": 3
   },
   "file_extension": ".py",
   "mimetype": "text/x-python",
   "name": "python",
   "nbconvert_exporter": "python",
   "pygments_lexer": "ipython3",
   "version": "3.10.13"
  },
  "papermill": {
   "default_parameters": {},
   "duration": 320.938403,
   "end_time": "2024-05-05T07:05:22.729995",
   "environment_variables": {},
   "exception": null,
   "input_path": "__notebook__.ipynb",
   "output_path": "__notebook__.ipynb",
   "parameters": {},
   "start_time": "2024-05-05T07:00:01.791592",
   "version": "2.5.0"
  }
 },
 "nbformat": 4,
 "nbformat_minor": 5
}
