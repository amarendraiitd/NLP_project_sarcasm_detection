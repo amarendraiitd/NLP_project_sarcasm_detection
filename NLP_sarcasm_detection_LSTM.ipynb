{
 "cells": [
  {
   "cell_type": "code",
   "execution_count": 1,
   "id": "602b9dd5",
   "metadata": {
    "execution": {
     "iopub.execute_input": "2024-04-18T04:09:08.302396Z",
     "iopub.status.busy": "2024-04-18T04:09:08.302034Z",
     "iopub.status.idle": "2024-04-18T04:09:13.880581Z",
     "shell.execute_reply": "2024-04-18T04:09:13.879771Z"
    },
    "papermill": {
     "duration": 5.587344,
     "end_time": "2024-04-18T04:09:13.883265",
     "exception": false,
     "start_time": "2024-04-18T04:09:08.295921",
     "status": "completed"
    },
    "tags": []
   },
   "outputs": [],
   "source": [
    "import torch\n",
    "import torch.nn as nn\n",
    "import numpy as np\n",
    "import pandas as pd\n",
    "import time\n",
    "import csv\n",
    "import os\n",
    "from nltk.tokenize import word_tokenize\n",
    "import torch.nn.functional as F\n",
    "import torch.optim as optim\n",
    "from sklearn.model_selection import train_test_split\n",
    "from torch.utils.data import Dataset, DataLoader\n",
    "device = torch.device('cuda') if torch.cuda.is_available() else torch.device('cpu')\n",
    "import matplotlib.pyplot as plt"
   ]
  },
  {
   "cell_type": "code",
   "execution_count": 2,
   "id": "88b0150a",
   "metadata": {
    "execution": {
     "iopub.execute_input": "2024-04-18T04:09:13.893856Z",
     "iopub.status.busy": "2024-04-18T04:09:13.893427Z",
     "iopub.status.idle": "2024-04-18T04:09:14.105423Z",
     "shell.execute_reply": "2024-04-18T04:09:14.104487Z"
    },
    "papermill": {
     "duration": 0.219261,
     "end_time": "2024-04-18T04:09:14.107372",
     "exception": false,
     "start_time": "2024-04-18T04:09:13.888111",
     "status": "completed"
    },
    "tags": []
   },
   "outputs": [
    {
     "data": {
      "text/html": [
       "<div>\n",
       "<style scoped>\n",
       "    .dataframe tbody tr th:only-of-type {\n",
       "        vertical-align: middle;\n",
       "    }\n",
       "\n",
       "    .dataframe tbody tr th {\n",
       "        vertical-align: top;\n",
       "    }\n",
       "\n",
       "    .dataframe thead th {\n",
       "        text-align: right;\n",
       "    }\n",
       "</style>\n",
       "<table border=\"1\" class=\"dataframe\">\n",
       "  <thead>\n",
       "    <tr style=\"text-align: right;\">\n",
       "      <th></th>\n",
       "      <th>TEXT</th>\n",
       "      <th>IS_SARCASTIC</th>\n",
       "    </tr>\n",
       "  </thead>\n",
       "  <tbody>\n",
       "    <tr>\n",
       "      <th>0</th>\n",
       "      <td>it's another ho-ho-horowitz christmas!</td>\n",
       "      <td>0.0</td>\n",
       "    </tr>\n",
       "    <tr>\n",
       "      <th>1</th>\n",
       "      <td>quiz: where should you live abroad?</td>\n",
       "      <td>0.0</td>\n",
       "    </tr>\n",
       "    <tr>\n",
       "      <th>2</th>\n",
       "      <td>praise the lord or praise the person?</td>\n",
       "      <td>0.0</td>\n",
       "    </tr>\n",
       "    <tr>\n",
       "      <th>3</th>\n",
       "      <td>microwave-resistant potato alarms scientists</td>\n",
       "      <td>1.0</td>\n",
       "    </tr>\n",
       "    <tr>\n",
       "      <th>4</th>\n",
       "      <td>rude guy unfortunately says something funny</td>\n",
       "      <td>1.0</td>\n",
       "    </tr>\n",
       "    <tr>\n",
       "      <th>...</th>\n",
       "      <td>...</td>\n",
       "      <td>...</td>\n",
       "    </tr>\n",
       "    <tr>\n",
       "      <th>25705</th>\n",
       "      <td>u.s. changes motto to 'america... we're gonna ...</td>\n",
       "      <td>1.0</td>\n",
       "    </tr>\n",
       "    <tr>\n",
       "      <th>25706</th>\n",
       "      <td>why this healing expert doesn't believe in 'cl...</td>\n",
       "      <td>0.0</td>\n",
       "    </tr>\n",
       "    <tr>\n",
       "      <th>25707</th>\n",
       "      <td>man just going to assume apartment has functio...</td>\n",
       "      <td>1.0</td>\n",
       "    </tr>\n",
       "    <tr>\n",
       "      <th>25708</th>\n",
       "      <td>5 signs that you should end your relationship</td>\n",
       "      <td>0.0</td>\n",
       "    </tr>\n",
       "    <tr>\n",
       "      <th>25709</th>\n",
       "      <td>trump to nominate nfl team owner as ambassador...</td>\n",
       "      <td>0.0</td>\n",
       "    </tr>\n",
       "  </tbody>\n",
       "</table>\n",
       "<p>25682 rows × 2 columns</p>\n",
       "</div>"
      ],
      "text/plain": [
       "                                                    TEXT  IS_SARCASTIC\n",
       "0                 it's another ho-ho-horowitz christmas!           0.0\n",
       "1                    quiz: where should you live abroad?           0.0\n",
       "2                  praise the lord or praise the person?           0.0\n",
       "3           microwave-resistant potato alarms scientists           1.0\n",
       "4            rude guy unfortunately says something funny           1.0\n",
       "...                                                  ...           ...\n",
       "25705  u.s. changes motto to 'america... we're gonna ...           1.0\n",
       "25706  why this healing expert doesn't believe in 'cl...           0.0\n",
       "25707  man just going to assume apartment has functio...           1.0\n",
       "25708      5 signs that you should end your relationship           0.0\n",
       "25709  trump to nominate nfl team owner as ambassador...           0.0\n",
       "\n",
       "[25682 rows x 2 columns]"
      ]
     },
     "execution_count": 2,
     "metadata": {},
     "output_type": "execute_result"
    }
   ],
   "source": [
    "training_data_df = pd.read_csv('/kaggle/input/sarcasm-glove/Sarcasm_training.csv')\n",
    "training_data_df = training_data_df[['TEXT ', 'IS_SARCASTIC']]\n",
    "training_data_df['IS_SARCASTIC'] = pd.to_numeric(training_data_df['IS_SARCASTIC'], errors='coerce')\n",
    "train_data_df_cleaned = training_data_df[training_data_df['IS_SARCASTIC'].isin([0, 1])]\n",
    "invalid_rows_after_cleanup = train_data_df_cleaned[~train_data_df_cleaned['IS_SARCASTIC'].isin([0, 1])]\n",
    "invalid_rows_count_after_cleanup = len(invalid_rows_after_cleanup)\n",
    "training_data_df = train_data_df_cleaned\n",
    "training_data_df.rename(columns={\"TEXT \": \"TEXT\"}, inplace=True)\n",
    "training_data_df"
   ]
  },
  {
   "cell_type": "code",
   "execution_count": 3,
   "id": "313f01d5",
   "metadata": {
    "execution": {
     "iopub.execute_input": "2024-04-18T04:09:14.118241Z",
     "iopub.status.busy": "2024-04-18T04:09:14.117921Z",
     "iopub.status.idle": "2024-04-18T04:09:14.131004Z",
     "shell.execute_reply": "2024-04-18T04:09:14.130162Z"
    },
    "papermill": {
     "duration": 0.021003,
     "end_time": "2024-04-18T04:09:14.133064",
     "exception": false,
     "start_time": "2024-04-18T04:09:14.112061",
     "status": "completed"
    },
    "tags": []
   },
   "outputs": [
    {
     "data": {
      "text/plain": [
       "(20545, 5137)"
      ]
     },
     "execution_count": 3,
     "metadata": {},
     "output_type": "execute_result"
    }
   ],
   "source": [
    "train_val_split_factor = 0.8\n",
    "\n",
    "num_training_samples = int(len(training_data_df) * train_val_split_factor)\n",
    "\n",
    "shuffled_indices = np.random.RandomState(seed=150).permutation(len(training_data_df))\n",
    "\n",
    "train_indices = shuffled_indices[:num_training_samples]\n",
    "val_indices = shuffled_indices[num_training_samples:]\n",
    "\n",
    "\n",
    "train_data_df = training_data_df.iloc[train_indices].reset_index(drop=True)\n",
    "val_df = training_data_df.iloc[val_indices].reset_index(drop=True)\n",
    "len(train_data_df), len(val_df)"
   ]
  },
  {
   "cell_type": "code",
   "execution_count": 4,
   "id": "8be80017",
   "metadata": {
    "execution": {
     "iopub.execute_input": "2024-04-18T04:09:14.144071Z",
     "iopub.status.busy": "2024-04-18T04:09:14.143807Z",
     "iopub.status.idle": "2024-04-18T04:09:20.552800Z",
     "shell.execute_reply": "2024-04-18T04:09:20.552012Z"
    },
    "papermill": {
     "duration": 6.416692,
     "end_time": "2024-04-18T04:09:20.555044",
     "exception": false,
     "start_time": "2024-04-18T04:09:14.138352",
     "status": "completed"
    },
    "tags": []
   },
   "outputs": [],
   "source": [
    "\n",
    "def load_embeddings(file_path):\n",
    "    embeddings_index = {}\n",
    "    with open(file_path, 'r', encoding='utf-8') as f:\n",
    "        for line in f:\n",
    "            values = line.split()\n",
    "            word = values[0]\n",
    "            coefs = np.asarray(values[1:], dtype='float32')\n",
    "            embeddings_index[word] = coefs\n",
    "    return embeddings_index\n",
    "\n",
    "\n",
    "class SarcasmDataset(Dataset):\n",
    "    def __init__(self, dataframe, word_vectors):\n",
    "        self.data = dataframe\n",
    "        self.word_vectors = word_vectors\n",
    "\n",
    "    def __len__(self):\n",
    "        return len(self.data)\n",
    "\n",
    "    def __getitem__(self, idx):\n",
    "        text = self.data.iloc[idx]['TEXT']\n",
    "        label = self.data.iloc[idx]['IS_SARCASTIC']\n",
    "        vector = self.sentence_to_vector(text)\n",
    "        return vector, label\n",
    "\n",
    "    def sentence_to_vector(self, sentence):\n",
    "        tokens = word_tokenize(sentence.lower())\n",
    "        vector = []\n",
    "        for token in tokens:\n",
    "            if token in self.word_vectors:\n",
    "                vector.append(self.word_vectors[token])\n",
    "        if not vector:\n",
    "            vector.append(np.zeros(50))  \n",
    "        return np.mean(vector, axis=0)\n",
    "\n",
    "local_embeddings_path = '/kaggle/input/sarcasm-glove/glove.6B.50d.txt'\n",
    "word_vectors = load_embeddings(local_embeddings_path)\n",
    "\n",
    "train_dataset = SarcasmDataset(train_data_df, word_vectors)\n",
    "val_dataset = SarcasmDataset(val_df, word_vectors)\n",
    "\n",
    "train_loader = DataLoader(train_dataset, batch_size=32, shuffle=True, drop_last=True)\n",
    "# train_loader = DataLoader(train_dataset, batch_size=batch_size, shuffle=True, drop_last=True)\n",
    "val_loader = DataLoader(val_dataset, batch_size=32, shuffle=False)"
   ]
  },
  {
   "cell_type": "code",
   "execution_count": 5,
   "id": "fba71735",
   "metadata": {
    "execution": {
     "iopub.execute_input": "2024-04-18T04:09:20.565858Z",
     "iopub.status.busy": "2024-04-18T04:09:20.565596Z",
     "iopub.status.idle": "2024-04-18T04:09:20.572807Z",
     "shell.execute_reply": "2024-04-18T04:09:20.572088Z"
    },
    "papermill": {
     "duration": 0.014606,
     "end_time": "2024-04-18T04:09:20.574688",
     "exception": false,
     "start_time": "2024-04-18T04:09:20.560082",
     "status": "completed"
    },
    "tags": []
   },
   "outputs": [],
   "source": [
    "class LSTMModel(nn.Module):\n",
    "    def __init__(self, embedding_dim, hidden_dim):\n",
    "        super(LSTMModel, self).__init__()\n",
    "        self.rnn1 = nn.LSTM(embedding_dim, hidden_dim, batch_first=True)\n",
    "        self.fc1 = nn.Linear(hidden_dim, hidden_dim)\n",
    "        self.dropout1 = nn.Dropout(0.1)      \n",
    "        self.fc2 = nn.Linear(hidden_dim, 1)\n",
    "\n",
    "    def forward(self, x):\n",
    "        x = x.unsqueeze(1)  # Adding dim for batch_first LSTM\n",
    "        output, _ = self.rnn1(x)\n",
    "        output = self.fc1(output)\n",
    "        output = F.relu(output)   \n",
    "        output = self.dropout1(output)        \n",
    "        output = self.fc2(output[:, -1, :])  #last time step\n",
    "        return output"
   ]
  },
  {
   "cell_type": "code",
   "execution_count": 6,
   "id": "aaa1c3a9",
   "metadata": {
    "execution": {
     "iopub.execute_input": "2024-04-18T04:09:20.585077Z",
     "iopub.status.busy": "2024-04-18T04:09:20.584818Z",
     "iopub.status.idle": "2024-04-18T04:09:20.592469Z",
     "shell.execute_reply": "2024-04-18T04:09:20.591620Z"
    },
    "papermill": {
     "duration": 0.015066,
     "end_time": "2024-04-18T04:09:20.594462",
     "exception": false,
     "start_time": "2024-04-18T04:09:20.579396",
     "status": "completed"
    },
    "tags": []
   },
   "outputs": [],
   "source": [
    "class RNNModel(nn.Module):\n",
    "    def __init__(self, vocab_size, embedding_dim, hidden_dim, pretrained_embeddings=None):\n",
    "        super(RNNModel, self).__init__()\n",
    "        \n",
    "        # If pre-trained word embeddings are provided, load them\n",
    "        self.embedding = nn.Embedding(vocab_size, embedding_dim)\n",
    "        if pretrained_embeddings is not None:\n",
    "            self.embedding.weight.data.copy_(torch.from_numpy(pretrained_embeddings))\n",
    "            # If you want to freeze the embeddings, set the following flag\n",
    "            # self.embedding.weight.requires_grad = False\n",
    "\n",
    "        self.rnn1 = nn.LSTM(embedding_dim, hidden_dim, batch_first=True)\n",
    "        self.fc1 = nn.Linear(hidden_dim, hidden_dim)\n",
    "        self.dropout1 = nn.Dropout(0.1)\n",
    "        self.fc2 = nn.Linear(hidden_dim, 1)\n",
    "\n",
    "    def forward(self, x):\n",
    "        # Here, x is expected to be a batch of word indices\n",
    "        embedded = self.embedding(x)\n",
    "        output, _ = self.rnn1(embedded)\n",
    "        output = self.fc1(output)\n",
    "        output = F.relu(output)\n",
    "        output = self.dropout1(output)\n",
    "        output = self.fc2(output[:, -1, :])  # Get the output of the last time step\n",
    "        return output\n"
   ]
  },
  {
   "cell_type": "code",
   "execution_count": 7,
   "id": "8ce95bd6",
   "metadata": {
    "execution": {
     "iopub.execute_input": "2024-04-18T04:09:20.605136Z",
     "iopub.status.busy": "2024-04-18T04:09:20.604401Z",
     "iopub.status.idle": "2024-04-18T04:09:23.081318Z",
     "shell.execute_reply": "2024-04-18T04:09:23.080435Z"
    },
    "papermill": {
     "duration": 2.484472,
     "end_time": "2024-04-18T04:09:23.083533",
     "exception": false,
     "start_time": "2024-04-18T04:09:20.599061",
     "status": "completed"
    },
    "tags": []
   },
   "outputs": [],
   "source": [
    "embedding_dim = 50\n",
    "hidden_dim = 32\n",
    "\n",
    "model = LSTMModel(embedding_dim, hidden_dim).to(device)\n",
    "model.to(device)\n",
    "criterion = nn.BCEWithLogitsLoss()\n",
    "optimizer = optim.Adam(model.parameters(), lr=0.001) "
   ]
  },
  {
   "cell_type": "code",
   "execution_count": 8,
   "id": "0feb5883",
   "metadata": {
    "execution": {
     "iopub.execute_input": "2024-04-18T04:09:23.094798Z",
     "iopub.status.busy": "2024-04-18T04:09:23.094385Z",
     "iopub.status.idle": "2024-04-18T04:09:23.101985Z",
     "shell.execute_reply": "2024-04-18T04:09:23.101155Z"
    },
    "papermill": {
     "duration": 0.015094,
     "end_time": "2024-04-18T04:09:23.103860",
     "exception": false,
     "start_time": "2024-04-18T04:09:23.088766",
     "status": "completed"
    },
    "tags": []
   },
   "outputs": [],
   "source": [
    "def train_model(model,device,train_dataloader):\n",
    "    model.train()\n",
    "    total_predictions = 0\n",
    "    correct_predictions = 0\n",
    "    train_loss = 0\n",
    "    for batch_idx, (inputs,labels) in enumerate(train_dataloader):\n",
    "        inputs = inputs.to(device)\n",
    "        labels = labels.to(device)\n",
    "        optimizer.zero_grad()\n",
    "        outputs = model(inputs.float())\n",
    "        loss = criterion(outputs.squeeze(), labels.float())\n",
    "        train_loss += loss.item()\n",
    "        loss.backward()\n",
    "        optimizer.step()\n",
    "        output_probabilities = F.sigmoid(outputs)\n",
    "        preds = (output_probabilities >= 0.5).float()\n",
    "        correct_predictions += torch.sum(preds.squeeze(1)  == labels).item()\n",
    "        total_predictions += labels.size(0)\n",
    "\n",
    "    avg_train_loss = train_loss / len(train_dataloader)  \n",
    "    train_accuracy = 100 * correct_predictions / total_predictions\n",
    "    # print(f'Epoch [{epoch+1}/{num_epochs}], Loss: {loss.item():.4f}, Training Accuracy: {train_accuracy:.2f}%')\n",
    "    return avg_train_loss,train_accuracy"
   ]
  },
  {
   "cell_type": "code",
   "execution_count": 9,
   "id": "07b04465",
   "metadata": {
    "execution": {
     "iopub.execute_input": "2024-04-18T04:09:23.114737Z",
     "iopub.status.busy": "2024-04-18T04:09:23.114022Z",
     "iopub.status.idle": "2024-04-18T04:09:23.121306Z",
     "shell.execute_reply": "2024-04-18T04:09:23.120458Z"
    },
    "papermill": {
     "duration": 0.014537,
     "end_time": "2024-04-18T04:09:23.123106",
     "exception": false,
     "start_time": "2024-04-18T04:09:23.108569",
     "status": "completed"
    },
    "tags": []
   },
   "outputs": [],
   "source": [
    "def validation_check(model,device,validation_dataloader):\n",
    "    model.eval()\n",
    "    correct_val = 0\n",
    "    total_val = 0\n",
    "    val_loss = 0\n",
    "    with torch.no_grad():\n",
    "        for batch_idx, (inputs,labels) in enumerate(validation_dataloader):\n",
    "            inputs = inputs.to(device)\n",
    "            labels = labels.to(device)\n",
    "            outputs = model(inputs.float())\n",
    "            loss = criterion(outputs.squeeze(), labels.float())\n",
    "            val_loss += loss.item()\n",
    "            output_probabilities = F.sigmoid(outputs)\n",
    "            preds = (output_probabilities >= 0.5).float()\n",
    "            correct_val += torch.sum(preds.squeeze(1)  == labels).item()\n",
    "            total_val += labels.size(0)\n",
    "    avg_val_loss = val_loss / len(validation_dataloader)\n",
    "    val_accuracy = 100 * correct_val / total_val\n",
    "    # print(f'Validation Accuracy: {val_accuracy:.2f}%')\n",
    "    return avg_val_loss,val_accuracy"
   ]
  },
  {
   "cell_type": "code",
   "execution_count": 10,
   "id": "0352d6ad",
   "metadata": {
    "execution": {
     "iopub.execute_input": "2024-04-18T04:09:23.133436Z",
     "iopub.status.busy": "2024-04-18T04:09:23.133175Z",
     "iopub.status.idle": "2024-04-18T04:18:58.578588Z",
     "shell.execute_reply": "2024-04-18T04:18:58.577695Z"
    },
    "papermill": {
     "duration": 575.453069,
     "end_time": "2024-04-18T04:18:58.580706",
     "exception": false,
     "start_time": "2024-04-18T04:09:23.127637",
     "status": "completed"
    },
    "tags": []
   },
   "outputs": [
    {
     "name": "stdout",
     "output_type": "stream",
     "text": [
      "epoch: 1, train loss: 0.6055, val. loss: 0.5705, train acc: 67.2264, val acc: 70.8585, time: 0.20 mins\n",
      "epoch: 2, train loss: 0.5612, val. loss: 0.5523, train acc: 71.7290, val acc: 72.7467, time: 0.39 mins\n",
      "epoch: 3, train loss: 0.5427, val. loss: 0.5372, train acc: 72.8826, val acc: 73.3307, time: 0.59 mins\n",
      "epoch: 4, train loss: 0.5288, val. loss: 0.5230, train acc: 73.7636, val acc: 74.5377, time: 0.78 mins\n",
      "epoch: 5, train loss: 0.5161, val. loss: 0.5188, train acc: 74.8880, val acc: 74.6739, time: 0.98 mins\n",
      "epoch: 6, train loss: 0.5038, val. loss: 0.5084, train acc: 75.6620, val acc: 75.7251, time: 1.17 mins\n",
      "epoch: 7, train loss: 0.4963, val. loss: 0.5051, train acc: 76.2802, val acc: 75.9587, time: 1.37 mins\n",
      "epoch: 8, train loss: 0.4908, val. loss: 0.5001, train acc: 76.6209, val acc: 75.7057, time: 1.56 mins\n",
      "epoch: 9, train loss: 0.4848, val. loss: 0.4953, train acc: 77.0006, val acc: 75.9393, time: 1.75 mins\n",
      "epoch: 10, train loss: 0.4798, val. loss: 0.4951, train acc: 77.1320, val acc: 76.0755, time: 1.95 mins\n",
      "epoch: 11, train loss: 0.4761, val. loss: 0.5050, train acc: 77.5604, val acc: 75.3942, time: 2.14 mins\n",
      "epoch: 12, train loss: 0.4721, val. loss: 0.4933, train acc: 77.8086, val acc: 76.1145, time: 2.33 mins\n",
      "epoch: 13, train loss: 0.4682, val. loss: 0.4907, train acc: 77.8719, val acc: 76.5233, time: 2.53 mins\n",
      "epoch: 14, train loss: 0.4638, val. loss: 0.4932, train acc: 78.2370, val acc: 76.3481, time: 2.72 mins\n",
      "epoch: 15, train loss: 0.4604, val. loss: 0.4886, train acc: 78.1445, val acc: 76.5038, time: 2.91 mins\n",
      "epoch: 16, train loss: 0.4580, val. loss: 0.4933, train acc: 78.6410, val acc: 76.2118, time: 3.11 mins\n",
      "epoch: 17, train loss: 0.4566, val. loss: 0.4885, train acc: 78.5485, val acc: 76.6985, time: 3.30 mins\n",
      "epoch: 18, train loss: 0.4524, val. loss: 0.4918, train acc: 78.6458, val acc: 76.7958, time: 3.49 mins\n",
      "epoch: 19, train loss: 0.4485, val. loss: 0.4885, train acc: 79.0352, val acc: 76.9710, time: 3.69 mins\n",
      "epoch: 20, train loss: 0.4474, val. loss: 0.4865, train acc: 79.1569, val acc: 77.1073, time: 3.88 mins\n",
      "epoch: 21, train loss: 0.4437, val. loss: 0.4878, train acc: 79.1618, val acc: 76.8931, time: 4.08 mins\n",
      "epoch: 22, train loss: 0.4406, val. loss: 0.5071, train acc: 79.3954, val acc: 76.0171, time: 4.27 mins\n",
      "epoch: 23, train loss: 0.4390, val. loss: 0.4902, train acc: 79.5171, val acc: 76.9126, time: 4.47 mins\n",
      "epoch: 24, train loss: 0.4365, val. loss: 0.4907, train acc: 79.6534, val acc: 76.5038, time: 4.66 mins\n",
      "epoch: 25, train loss: 0.4337, val. loss: 0.4947, train acc: 79.8384, val acc: 76.6595, time: 4.86 mins\n",
      "epoch: 26, train loss: 0.4316, val. loss: 0.4924, train acc: 79.9357, val acc: 77.0099, time: 5.05 mins\n",
      "epoch: 27, train loss: 0.4295, val. loss: 0.4874, train acc: 79.9747, val acc: 77.0294, time: 5.25 mins\n",
      "epoch: 28, train loss: 0.4250, val. loss: 0.5008, train acc: 80.4371, val acc: 76.7374, time: 5.44 mins\n",
      "epoch: 29, train loss: 0.4245, val. loss: 0.4942, train acc: 80.4225, val acc: 76.9321, time: 5.63 mins\n",
      "epoch: 30, train loss: 0.4243, val. loss: 0.4916, train acc: 80.3300, val acc: 76.9126, time: 5.83 mins\n",
      "epoch: 31, train loss: 0.4213, val. loss: 0.4932, train acc: 80.7681, val acc: 77.1462, time: 6.02 mins\n",
      "epoch: 32, train loss: 0.4192, val. loss: 0.4949, train acc: 80.5783, val acc: 76.8347, time: 6.21 mins\n",
      "epoch: 33, train loss: 0.4178, val. loss: 0.4948, train acc: 80.6805, val acc: 77.2046, time: 6.39 mins\n",
      "epoch: 34, train loss: 0.4136, val. loss: 0.4953, train acc: 80.8557, val acc: 77.3214, time: 6.58 mins\n",
      "epoch: 35, train loss: 0.4128, val. loss: 0.5153, train acc: 81.0553, val acc: 75.9198, time: 6.77 mins\n",
      "epoch: 36, train loss: 0.4103, val. loss: 0.5034, train acc: 81.0066, val acc: 76.7569, time: 6.96 mins\n",
      "epoch: 37, train loss: 0.4092, val. loss: 0.4989, train acc: 81.0748, val acc: 77.0489, time: 7.14 mins\n",
      "epoch: 38, train loss: 0.4064, val. loss: 0.4957, train acc: 81.1526, val acc: 77.1657, time: 7.33 mins\n",
      "epoch: 39, train loss: 0.4048, val. loss: 0.5010, train acc: 81.5664, val acc: 77.2241, time: 7.52 mins\n",
      "epoch: 40, train loss: 0.4025, val. loss: 0.4965, train acc: 81.5956, val acc: 77.6913, time: 7.71 mins\n",
      "epoch: 41, train loss: 0.4004, val. loss: 0.4996, train acc: 81.5567, val acc: 77.3214, time: 7.90 mins\n",
      "epoch: 42, train loss: 0.3997, val. loss: 0.5121, train acc: 81.6443, val acc: 76.7763, time: 8.09 mins\n",
      "epoch: 43, train loss: 0.3985, val. loss: 0.4995, train acc: 81.8682, val acc: 76.7569, time: 8.27 mins\n",
      "epoch: 44, train loss: 0.3964, val. loss: 0.5060, train acc: 81.8195, val acc: 77.3409, time: 8.46 mins\n",
      "epoch: 45, train loss: 0.3942, val. loss: 0.5099, train acc: 82.0629, val acc: 77.0294, time: 8.65 mins\n",
      "epoch: 46, train loss: 0.3918, val. loss: 0.5055, train acc: 82.0483, val acc: 77.2435, time: 8.84 mins\n",
      "epoch: 47, train loss: 0.3904, val. loss: 0.5375, train acc: 82.1310, val acc: 75.6083, time: 9.03 mins\n",
      "epoch: 48, train loss: 0.3899, val. loss: 0.5088, train acc: 82.1164, val acc: 77.4771, time: 9.22 mins\n",
      "epoch: 49, train loss: 0.3872, val. loss: 0.5127, train acc: 82.4036, val acc: 76.6401, time: 9.40 mins\n",
      "epoch: 50, train loss: 0.3849, val. loss: 0.5148, train acc: 82.5448, val acc: 76.9515, time: 9.59 mins\n"
     ]
    }
   ],
   "source": [
    "model_save_path = 'model.pth' \n",
    "model_state_dict_path = 'model_state_dict.pth'\n",
    "epochs = 50\n",
    "training_losses = []\n",
    "training_accs = []\n",
    "val_losses = []\n",
    "val_accs = []\n",
    "start_time = time.time()\n",
    "for epoch in range(epochs):\n",
    "    loss, accuracy = train_model(model,device,train_loader)\n",
    "    training_losses.append(loss)\n",
    "    training_accs.append(accuracy)\n",
    "    val_loss, val_acc = validation_check(model, device, val_loader)\n",
    "    val_losses.append(val_loss)\n",
    "    val_accs.append(val_acc)\n",
    "    e_time = (time.time() - start_time)/60\n",
    "    print(f\"epoch: {epoch+1}, train loss: {loss:.4f}, val. loss: {val_loss:.4f}, train acc: {accuracy:.4f}, val acc: {val_acc:.4f}, time: {e_time:.2f} mins\")\n",
    "    torch.save(model, model_save_path)\n",
    "    torch.save(model.state_dict(), model_state_dict_path)\n",
    "    epoch_nums = list(range(1, epoch+2))\n",
    "    csv_file_path = \"losses.csv\"\n",
    "    with open(csv_file_path, mode='w', newline='') as file:\n",
    "        writer = csv.writer(file)\n",
    "        writer.writerow([\"Epoch\", \"Train Loss\", \"Validation Loss\", \"Training Accuracy\", \"Validation Accuracy\"])   \n",
    "        for epoch, train_loss, validation_loss, tacc, vacc in zip(epoch_nums, training_losses, val_losses, training_accs, val_accs):\n",
    "            writer.writerow([epoch, train_loss, validation_loss, tacc, vacc])"
   ]
  },
  {
   "cell_type": "code",
   "execution_count": 11,
   "id": "69045935",
   "metadata": {
    "execution": {
     "iopub.execute_input": "2024-04-18T04:18:58.599004Z",
     "iopub.status.busy": "2024-04-18T04:18:58.598706Z",
     "iopub.status.idle": "2024-04-18T04:18:58.998979Z",
     "shell.execute_reply": "2024-04-18T04:18:58.998090Z"
    },
    "papermill": {
     "duration": 0.411798,
     "end_time": "2024-04-18T04:18:59.001131",
     "exception": false,
     "start_time": "2024-04-18T04:18:58.589333",
     "status": "completed"
    },
    "tags": []
   },
   "outputs": [
    {
     "data": {
      "image/png": "[encoded data removed]",
      "text/plain": [
       "<Figure size 600x400 with 1 Axes>"
      ]
     },
     "metadata": {},
     "output_type": "display_data"
    }
   ],
   "source": [
    "epoch_nums = list(range(1, epochs+1))\n",
    "plt.figure(figsize=(6, 4))\n",
    "plt.plot(epoch_nums, training_losses, '-o', color='b', label='Train Losses')\n",
    "plt.plot(epoch_nums, val_losses, '-o', color='r', label='Validation Losses')\n",
    "\n",
    "plt.title('Train and Validation Losses vs Epochs')\n",
    "plt.xlabel('Epochs')\n",
    "plt.ylabel('Losses')\n",
    "plt.grid(True)\n",
    "plt.legend()\n",
    "plt.savefig('train_and_validation_losses.png')\n",
    "plt.show()"
   ]
  },
  {
   "cell_type": "code",
   "execution_count": 12,
   "id": "1088b42c",
   "metadata": {
    "execution": {
     "iopub.execute_input": "2024-04-18T04:18:59.020862Z",
     "iopub.status.busy": "2024-04-18T04:18:59.020535Z",
     "iopub.status.idle": "2024-04-18T04:19:00.062119Z",
     "shell.execute_reply": "2024-04-18T04:19:00.061333Z"
    },
    "papermill": {
     "duration": 1.05424,
     "end_time": "2024-04-18T04:19:00.064491",
     "exception": false,
     "start_time": "2024-04-18T04:18:59.010251",
     "status": "completed"
    },
    "tags": []
   },
   "outputs": [],
   "source": [
    "test_data_df = pd.read_csv('/kaggle/input/sarcasm-detection/SarcasmHeadlinesDataset_test.csv')\n",
    "# test_data_df\n",
    "# test_data_df.columns\n",
    "test_data_df = test_data_df[['ID','TEXT']]\n",
    "\n",
    "\n",
    "def sentence_to_vector(sentence, word_vectors):\n",
    "    tokens = word_tokenize(sentence.lower())\n",
    "    vector = []\n",
    "    for token in tokens:\n",
    "        if token in word_vectors:\n",
    "            vector.append(word_vectors[token])\n",
    "    if not vector:\n",
    "        vector.append(np.zeros(50))\n",
    "    return np.mean(np.array(vector), axis=0)\n",
    "\n",
    "def predict_sarcasm(sentence, word_vectors, model, device):\n",
    "    model.eval() \n",
    "    with torch.no_grad(): \n",
    "        sentence_vector = sentence_to_vector(sentence, word_vectors)\n",
    "        sentence_vector = torch.tensor(sentence_vector).float().to(device)\n",
    "        sentence_vector = sentence_vector.unsqueeze(0)  \n",
    "        output = model(sentence_vector)\n",
    "        output_probabilities = F.sigmoid(output)\n",
    "        preds = (output_probabilities >= 0.5).float()\n",
    "#         prediction = torch.sigmoid(output)\n",
    "        return preds\n",
    "    \n",
    "    \n",
    "all_preds = []\n",
    "for index, row in test_data_df.iterrows():\n",
    "    ID = row['ID']\n",
    "    sentence = row['TEXT']\n",
    "    pred_tensor = predict_sarcasm(sentence,word_vectors, model, device) \n",
    "    pred = int(pred_tensor.cpu().numpy().flatten()[0])\n",
    "    all_preds.append((ID, pred))\n",
    "\n",
    "results_df = pd.DataFrame(all_preds, columns=['ID', 'IS_SARCASTIC'])\n",
    "results_df.to_csv('predictions.csv', index=False) "
   ]
  },
  {
   "cell_type": "code",
   "execution_count": null,
   "id": "f76aacbb",
   "metadata": {
    "papermill": {
     "duration": 0.008822,
     "end_time": "2024-04-18T04:19:00.082672",
     "exception": false,
     "start_time": "2024-04-18T04:19:00.073850",
     "status": "completed"
    },
    "tags": []
   },
   "outputs": [],
   "source": []
  }
 ],
 "metadata": {
  "kaggle": {
   "accelerator": "gpu",
   "dataSources": [
    {
     "databundleVersionId": 8072508,
     "sourceId": 67519,
     "sourceType": "competition"
    },
    {
     "datasetId": 4816876,
     "sourceId": 8145736,
     "sourceType": "datasetVersion"
    }
   ],
   "dockerImageVersionId": 30683,
   "isGpuEnabled": true,
   "isInternetEnabled": true,
   "language": "python",
   "sourceType": "notebook"
  },
  "kernelspec": {
   "display_name": "Python 3",
   "language": "python",
   "name": "python3"
  },
  "language_info": {
   "codemirror_mode": {
    "name": "ipython",
    "version": 3
   },
   "file_extension": ".py",
   "mimetype": "text/x-python",
   "name": "python",
   "nbconvert_exporter": "python",
   "pygments_lexer": "ipython3",
   "version": "3.10.13"
  },
  "papermill": {
   "default_parameters": {},
   "duration": 596.152997,
   "end_time": "2024-04-18T04:19:01.815852",
   "environment_variables": {},
   "exception": null,
   "input_path": "__notebook__.ipynb",
   "output_path": "__notebook__.ipynb",
   "parameters": {},
   "start_time": "2024-04-18T04:09:05.662855",
   "version": "2.5.0"
  }
 },
 "nbformat": 4,
 "nbformat_minor": 5
}
